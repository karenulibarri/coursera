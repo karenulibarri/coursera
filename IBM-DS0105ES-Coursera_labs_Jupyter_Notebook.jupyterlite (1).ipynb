{
  "metadata": {
    "language_info": {
      "codemirror_mode": {
        "name": "python",
        "version": 3
      },
      "file_extension": ".py",
      "mimetype": "text/x-python",
      "name": "python",
      "nbconvert_exporter": "python",
      "pygments_lexer": "ipython3",
      "version": "3.8"
    },
    "kernelspec": {
      "name": "python",
      "display_name": "Pyolite",
      "language": "python"
    }
  },
  "nbformat_minor": 4,
  "nbformat": 4,
  "cells": [
    {
      "cell_type": "markdown",
      "source": "<center>\n    <img src=\"https://s3-api.us-geo.objectstorage.softlayer.net/cf-courses-data/CognitiveClass/Logos/organization_logo/organization_logo.png\" width=\"300\" alt=\"cognitiveclass.ai logo\"  />\n</center>\n",
      "metadata": {}
    },
    {
      "cell_type": "markdown",
      "source": "#### Agregue su código a continuación siguiendo las instrucciones dadas en el curso\n",
      "metadata": {}
    },
    {
      "cell_type": "markdown",
      "source": "# My Jupyter Notebook on IBM Watson Studio",
      "metadata": {}
    },
    {
      "cell_type": "markdown",
      "source": "**Karen Fabiola**\nDiseñadora Gráfica",
      "metadata": {}
    },
    {
      "cell_type": "markdown",
      "source": "*Me parece que es de suma importancia poder entender los datos y saber como analizarlos, extraerlos y clasificarlos. Ya que esto al final nos dará una ventaja en cualquier sector en el que nos desarrollemos. Entenderemos por ejemplo los hábitos o costumbres de nuestros clientes o consumidores y podremos implementar estrategias adecuadas en el sector que nos desenvolvamos.* \n\n*En mi caso, en el área del diseño y publicidad creo que justo es mega importante para poder tomar decisiones acertadas y hacer estrategias correctas que nos ayuden a promover los servicios o productos de nuestros clientes, llegando a nuestras metas de ventas y al target correcto.*",
      "metadata": {}
    },
    {
      "cell_type": "markdown",
      "source": "### Sumar",
      "metadata": {}
    },
    {
      "cell_type": "code",
      "source": "4+4",
      "metadata": {
        "trusted": true
      },
      "execution_count": 14,
      "outputs": [
        {
          "execution_count": 14,
          "output_type": "execute_result",
          "data": {
            "text/plain": "8"
          },
          "metadata": {}
        }
      ]
    },
    {
      "cell_type": "markdown",
      "source": "- Elemento 1\n- Elemento 2\n  - Subelemento 2.1\n  - Subelemento 2.2\n- Elemento 3\n\n1. Elemento 1\n2. Elemento 2\n   1. Subelemento 2.1\n   2. Subelemento 2.2\n3. Elemento 3\n\n~~Texto tachado~~\n\n| Encabezado 1 | Encabezado 2 | Encabezado 3 |\n|--------------|--------------|--------------|\n| Celda 1      | Celda 2      | Celda 3      |\n| Celda 4      | Celda 5      | Celda 6      |",
      "metadata": {}
    }
  ]
}