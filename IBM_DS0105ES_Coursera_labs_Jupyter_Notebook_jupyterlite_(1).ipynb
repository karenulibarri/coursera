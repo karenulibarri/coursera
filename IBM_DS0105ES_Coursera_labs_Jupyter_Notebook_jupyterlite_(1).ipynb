{
  "metadata": {
    "language_info": {
      "codemirror_mode": {
        "name": "python",
        "version": 3
      },
      "file_extension": ".py",
      "mimetype": "text/x-python",
      "name": "python",
      "nbconvert_exporter": "python",
      "pygments_lexer": "ipython3",
      "version": "3.8"
    },
    "kernelspec": {
      "name": "python",
      "display_name": "Pyolite",
      "language": "python"
    },
    "colab": {
      "provenance": [],
      "include_colab_link": true
    }
  },
  "nbformat_minor": 0,
  "nbformat": 4,
  "cells": [
    {
      "cell_type": "markdown",
      "metadata": {
        "id": "view-in-github",
        "colab_type": "text"
      },
      "source": [
        "<a href=\"https://colab.research.google.com/github/karenulibarri/coursera/blob/main/IBM_DS0105ES_Coursera_labs_Jupyter_Notebook_jupyterlite_(1).ipynb\" target=\"_parent\"><img src=\"https://colab.research.google.com/assets/colab-badge.svg\" alt=\"Open In Colab\"/></a>"
      ]
    },
    {
      "cell_type": "markdown",
      "source": [
        "<center>\n",
        "    <img src=\"https://s3-api.us-geo.objectstorage.softlayer.net/cf-courses-data/CognitiveClass/Logos/organization_logo/organization_logo.png\" width=\"300\" alt=\"cognitiveclass.ai logo\"  />\n",
        "</center>\n"
      ],
      "metadata": {
        "id": "Yy_j6FkpU2dw"
      }
    },
    {
      "cell_type": "markdown",
      "source": [
        "#### Agregue su código a continuación siguiendo las instrucciones dadas en el curso\n"
      ],
      "metadata": {
        "id": "oBtcqWM_U2d4"
      }
    },
    {
      "cell_type": "markdown",
      "source": [
        "# My Jupyter Notebook on IBM Watson Studio"
      ],
      "metadata": {
        "id": "Zl_7K88BU2d5"
      }
    },
    {
      "cell_type": "markdown",
      "source": [
        "**Karen Fabiola**\n",
        "Diseñadora Gráfica"
      ],
      "metadata": {
        "id": "7Kt5_qBsU2d6"
      }
    },
    {
      "cell_type": "markdown",
      "source": [
        "*Me parece que es de suma importancia poder entender los datos y saber como analizarlos, extraerlos y clasificarlos. Ya que esto al final nos dará una ventaja en cualquier sector en el que nos desarrollemos. Entenderemos por ejemplo los hábitos o costumbres de nuestros clientes o consumidores y podremos implementar estrategias adecuadas en el sector que nos desenvolvamos.*\n",
        "\n",
        "*En mi caso, en el área del diseño y publicidad creo que justo es mega importante para poder tomar decisiones acertadas y hacer estrategias correctas que nos ayuden a promover los servicios o productos de nuestros clientes, llegando a nuestras metas de ventas y al target correcto.*"
      ],
      "metadata": {
        "id": "3hvRjaEUU2d6"
      }
    },
    {
      "cell_type": "markdown",
      "source": [
        "### Sumar"
      ],
      "metadata": {
        "id": "4YBSsm1rU2d8"
      }
    },
    {
      "cell_type": "code",
      "source": [
        "4+4"
      ],
      "metadata": {
        "trusted": true,
        "id": "rV-Y_qz6U2d9",
        "outputId": "383a9ba4-542a-4900-916a-c15024c28cd1"
      },
      "execution_count": null,
      "outputs": [
        {
          "execution_count": 14,
          "output_type": "execute_result",
          "data": {
            "text/plain": "8"
          },
          "metadata": {}
        }
      ]
    },
    {
      "cell_type": "markdown",
      "source": [
        "- Elemento 1\n",
        "- Elemento 2\n",
        "  - Subelemento 2.1\n",
        "  - Subelemento 2.2\n",
        "- Elemento 3\n",
        "\n",
        "1. Elemento 1\n",
        "2. Elemento 2\n",
        "   1. Subelemento 2.1\n",
        "   2. Subelemento 2.2\n",
        "3. Elemento 3\n",
        "\n",
        "~~Texto tachado~~\n",
        "\n",
        "| Encabezado 1 | Encabezado 2 | Encabezado 3 |\n",
        "|--------------|--------------|--------------|\n",
        "| Celda 1      | Celda 2      | Celda 3      |\n",
        "| Celda 4      | Celda 5      | Celda 6      |"
      ],
      "metadata": {
        "id": "ar9tjh17U2eD"
      }
    }
  ]
}